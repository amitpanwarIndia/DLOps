{
  "nbformat": 4,
  "nbformat_minor": 0,
  "metadata": {
    "colab": {
      "provenance": [],
      "gpuType": "T4",
      "authorship_tag": "ABX9TyOCcs0uo7jQ98F+OgB9p+Ja",
      "include_colab_link": true
    },
    "kernelspec": {
      "name": "python3",
      "display_name": "Python 3"
    },
    "language_info": {
      "name": "python"
    },
    "accelerator": "GPU"
  },
  "cells": [
    {
      "cell_type": "markdown",
      "metadata": {
        "id": "view-in-github",
        "colab_type": "text"
      },
      "source": [
        "<a href=\"https://colab.research.google.com/github/amitpanwarIndia/DLOps/blob/main/M22AIE202_DLOps_ClassAssignment_3.ipynb\" target=\"_parent\"><img src=\"https://colab.research.google.com/assets/colab-badge.svg\" alt=\"Open In Colab\"/></a>"
      ]
    },
    {
      "cell_type": "code",
      "source": [
        "!pip install ray"
      ],
      "metadata": {
        "id": "L8Y2z7sA90vm",
        "outputId": "11ae97ec-f553-49f5-d285-860b1b6b7557",
        "colab": {
          "base_uri": "https://localhost:8080/"
        }
      },
      "execution_count": 4,
      "outputs": [
        {
          "output_type": "stream",
          "name": "stdout",
          "text": [
            "Requirement already satisfied: ray in /usr/local/lib/python3.10/dist-packages (2.10.0)\n",
            "Requirement already satisfied: click>=7.0 in /usr/local/lib/python3.10/dist-packages (from ray) (8.1.7)\n",
            "Requirement already satisfied: filelock in /usr/local/lib/python3.10/dist-packages (from ray) (3.13.3)\n",
            "Requirement already satisfied: jsonschema in /usr/local/lib/python3.10/dist-packages (from ray) (4.19.2)\n",
            "Requirement already satisfied: msgpack<2.0.0,>=1.0.0 in /usr/local/lib/python3.10/dist-packages (from ray) (1.0.8)\n",
            "Requirement already satisfied: packaging in /usr/local/lib/python3.10/dist-packages (from ray) (24.0)\n",
            "Requirement already satisfied: protobuf!=3.19.5,>=3.15.3 in /usr/local/lib/python3.10/dist-packages (from ray) (3.20.3)\n",
            "Requirement already satisfied: pyyaml in /usr/local/lib/python3.10/dist-packages (from ray) (6.0.1)\n",
            "Requirement already satisfied: aiosignal in /usr/local/lib/python3.10/dist-packages (from ray) (1.3.1)\n",
            "Requirement already satisfied: frozenlist in /usr/local/lib/python3.10/dist-packages (from ray) (1.4.1)\n",
            "Requirement already satisfied: requests in /usr/local/lib/python3.10/dist-packages (from ray) (2.31.0)\n",
            "Requirement already satisfied: attrs>=22.2.0 in /usr/local/lib/python3.10/dist-packages (from jsonschema->ray) (23.2.0)\n",
            "Requirement already satisfied: jsonschema-specifications>=2023.03.6 in /usr/local/lib/python3.10/dist-packages (from jsonschema->ray) (2023.12.1)\n",
            "Requirement already satisfied: referencing>=0.28.4 in /usr/local/lib/python3.10/dist-packages (from jsonschema->ray) (0.34.0)\n",
            "Requirement already satisfied: rpds-py>=0.7.1 in /usr/local/lib/python3.10/dist-packages (from jsonschema->ray) (0.18.0)\n",
            "Requirement already satisfied: charset-normalizer<4,>=2 in /usr/local/lib/python3.10/dist-packages (from requests->ray) (3.3.2)\n",
            "Requirement already satisfied: idna<4,>=2.5 in /usr/local/lib/python3.10/dist-packages (from requests->ray) (3.6)\n",
            "Requirement already satisfied: urllib3<3,>=1.21.1 in /usr/local/lib/python3.10/dist-packages (from requests->ray) (2.0.7)\n",
            "Requirement already satisfied: certifi>=2017.4.17 in /usr/local/lib/python3.10/dist-packages (from requests->ray) (2024.2.2)\n"
          ]
        }
      ]
    },
    {
      "cell_type": "code",
      "source": [
        "import torch\n",
        "import torchvision\n",
        "import torch.nn as nn\n",
        "import torch.optim as optim\n",
        "from torchvision import transforms\n",
        "from torch.utils.data import DataLoader\n",
        "from ray import tune\n",
        "from ray.tune import CLIReporter\n",
        "from ray.tune.schedulers import ASHAScheduler\n",
        "from torch.utils.tensorboard import SummaryWriter"
      ],
      "metadata": {
        "id": "BtYiOqQu9xhl"
      },
      "execution_count": 5,
      "outputs": []
    },
    {
      "cell_type": "code",
      "source": [
        "train_set = torchvision.datasets.FashionMNIST(root=\"./data\", train=True, download=True, transform=transforms.ToTensor())\n",
        "test_set = torchvision.datasets.FashionMNIST(root=\"./data\", train=False, download=True, transform=transforms.ToTensor())"
      ],
      "metadata": {
        "id": "XkZotV0X9-tR"
      },
      "execution_count": 6,
      "outputs": []
    },
    {
      "cell_type": "code",
      "source": [
        "model = torchvision.models.resnet18(pretrained=True)\n",
        "num_ftrs = model.fc.in_features\n",
        "model.fc = nn.Linear(num_ftrs, 10)"
      ],
      "metadata": {
        "id": "wxybAEm6-D7p"
      },
      "execution_count": 7,
      "outputs": []
    },
    {
      "cell_type": "code",
      "source": [
        "def train_model(config):\n",
        "    train_loader = DataLoader(train_set, batch_size=config[\"batch_size\"], shuffle=True)\n",
        "    test_loader = DataLoader(test_set, batch_size=config[\"batch_size\"], shuffle=False)\n",
        "\n",
        "    device = torch.device(\"cuda\") if torch.cuda.is_available() else torch.device(\"cpu\")\n",
        "    model.to(device)\n",
        "\n",
        "    criterion = nn.CrossEntropyLoss()\n",
        "    optimizer = optim.SGD(model.parameters(), lr=config[\"lr\"], momentum=0.9) #SGD\n",
        "    optimizer = optim.Adam(model.parameters(), lr=config[\"lr\"])  # Adam optimizer\n",
        "\n",
        "    writer = SummaryWriter()\n",
        "\n",
        "    for epoch in range(5):  # Number of epochs can be tuned\n",
        "        model.train()\n",
        "        running_loss = 0.0\n",
        "        correct = 0\n",
        "        total = 0\n",
        "\n",
        "        for inputs, labels in train_loader:\n",
        "            inputs, labels = inputs.to(device), labels.to(device)\n",
        "\n",
        "            optimizer.zero_grad()\n",
        "\n",
        "            outputs = model(inputs)\n",
        "            loss = criterion(outputs, labels)\n",
        "            loss.backward()\n",
        "            optimizer.step()\n",
        "\n",
        "            running_loss += loss.item()\n",
        "            _, predicted = outputs.max(1)\n",
        "            total += labels.size(0)\n",
        "            correct += predicted.eq(labels).sum().item()\n",
        "\n",
        "        train_loss = running_loss / len(train_loader)\n",
        "        train_accuracy = 100. * correct / total\n",
        "\n",
        "        # Log training loss and accuracy\n",
        "        writer.add_scalar(\"Loss/train\", train_loss, epoch)\n",
        "        writer.add_scalar(\"Accuracy/train\", train_accuracy, epoch)\n",
        "\n",
        "        # Report metrics to Ray Tune\n",
        "        tune.report(loss=train_loss, accuracy=train_accuracy)\n",
        "\n",
        "    writer.close()"
      ],
      "metadata": {
        "id": "CaFtnhFq-NlM"
      },
      "execution_count": 8,
      "outputs": []
    },
    {
      "cell_type": "code",
      "source": [
        "!pip install -U tensorboardx"
      ],
      "metadata": {
        "id": "6O5PIyvFBZ9o",
        "outputId": "87cd879a-58ae-4b19-faa9-f4f2b2d617d2",
        "colab": {
          "base_uri": "https://localhost:8080/"
        }
      },
      "execution_count": 9,
      "outputs": [
        {
          "output_type": "stream",
          "name": "stdout",
          "text": [
            "Requirement already satisfied: tensorboardx in /usr/local/lib/python3.10/dist-packages (2.6.2.2)\n",
            "Requirement already satisfied: numpy in /usr/local/lib/python3.10/dist-packages (from tensorboardx) (1.25.2)\n",
            "Requirement already satisfied: packaging in /usr/local/lib/python3.10/dist-packages (from tensorboardx) (24.0)\n",
            "Requirement already satisfied: protobuf>=3.20 in /usr/local/lib/python3.10/dist-packages (from tensorboardx) (3.20.3)\n"
          ]
        }
      ]
    },
    {
      "cell_type": "code",
      "source": [
        "config = {\n",
        "    \"lr\": tune.loguniform(1e-6, 1e-1),\n",
        "    \"batch_size\": tune.choice([4, 8, 16, 32])\n",
        "}\n",
        "\n",
        "scheduler = ASHAScheduler(metric=\"loss\", mode=\"min\")\n",
        "\n",
        "reporter = CLIReporter(\n",
        "    parameter_columns=[\"lr\", \"batch_size\"],\n",
        "    metric_columns=[\"loss\", \"accuracy\", \"training_iteration\"])\n",
        "\n",
        "analysis = tune.run(\n",
        "    train_model,\n",
        "    resources_per_trial={\"cpu\": 0, \"gpu\": 1},  # Use GPU only\n",
        "    config=config,\n",
        "    num_samples=10,\n",
        "    scheduler=scheduler,\n",
        "    progress_reporter=reporter)"
      ],
      "metadata": {
        "id": "kP8WFdOX-RI_",
        "outputId": "bb670e58-a7e2-4e35-ba2d-c11bb2c9f59c",
        "colab": {
          "base_uri": "https://localhost:8080/"
        }
      },
      "execution_count": null,
      "outputs": [
        {
          "output_type": "stream",
          "name": "stderr",
          "text": [
            "2024-03-31 10:44:10,725\tINFO tune.py:622 -- [output] This will use the new output engine with verbosity 2. To disable the new output and use the legacy output engine, set the environment variable RAY_AIR_NEW_OUTPUT=0. For more information, please see https://github.com/ray-project/ray/issues/36949\n",
            "2024-03-31 10:44:12,368\tWARNING tune.py:912 -- AIR_VERBOSITY is set, ignoring passed-in ProgressReporter for now.\n"
          ]
        },
        {
          "output_type": "stream",
          "name": "stdout",
          "text": [
            "+--------------------------------------------------------------------+\n",
            "| Configuration for experiment     train_model_2024-03-31_10-44-12   |\n",
            "+--------------------------------------------------------------------+\n",
            "| Search algorithm                 BasicVariantGenerator             |\n",
            "| Scheduler                        AsyncHyperBandScheduler           |\n",
            "| Number of trials                 10                                |\n",
            "+--------------------------------------------------------------------+\n",
            "\n",
            "View detailed results here: /root/ray_results/train_model_2024-03-31_10-44-12\n",
            "To visualize your results with TensorBoard, run: `tensorboard --logdir /tmp/ray/session_2024-03-31_10-40-29_059336_1654/artifacts/2024-03-31_10-44-12/train_model_2024-03-31_10-44-12/driver_artifacts`\n",
            "\n",
            "Trial status: 10 PENDING\n",
            "Current time: 2024-03-31 10:44:51. Total running time: 39s\n",
            "Logical resource usage: 0/2 CPUs, 0/1 GPUs (0.0/1.0 accelerator_type:T4)\n",
            "+-----------------------------------------------------------------+\n",
            "| Trial name                status              lr     batch_size |\n",
            "+-----------------------------------------------------------------+\n",
            "| train_model_9c94f_00000   PENDING    5.61491e-06             16 |\n",
            "| train_model_9c94f_00001   PENDING    0.000544065             32 |\n",
            "| train_model_9c94f_00002   PENDING    1.59638e-06             32 |\n",
            "| train_model_9c94f_00003   PENDING    1.28036e-05              4 |\n",
            "| train_model_9c94f_00004   PENDING    1.77656e-06             16 |\n",
            "| train_model_9c94f_00005   PENDING    0.00102477              32 |\n",
            "| train_model_9c94f_00006   PENDING    0.0675571               16 |\n",
            "| train_model_9c94f_00007   PENDING    8.56217e-06              4 |\n",
            "| train_model_9c94f_00008   PENDING    0.062063                32 |\n",
            "| train_model_9c94f_00009   PENDING    0.000672024              4 |\n",
            "+-----------------------------------------------------------------+\n",
            "Trial status: 10 PENDING\n",
            "Current time: 2024-03-31 10:45:21. Total running time: 1min 9s\n",
            "Logical resource usage: 0/2 CPUs, 0/1 GPUs (0.0/1.0 accelerator_type:T4)\n",
            "+-----------------------------------------------------------------+\n",
            "| Trial name                status              lr     batch_size |\n",
            "+-----------------------------------------------------------------+\n",
            "| train_model_9c94f_00000   PENDING    5.61491e-06             16 |\n",
            "| train_model_9c94f_00001   PENDING    0.000544065             32 |\n",
            "| train_model_9c94f_00002   PENDING    1.59638e-06             32 |\n",
            "| train_model_9c94f_00003   PENDING    1.28036e-05              4 |\n",
            "| train_model_9c94f_00004   PENDING    1.77656e-06             16 |\n",
            "| train_model_9c94f_00005   PENDING    0.00102477              32 |\n",
            "| train_model_9c94f_00006   PENDING    0.0675571               16 |\n",
            "| train_model_9c94f_00007   PENDING    8.56217e-06              4 |\n",
            "| train_model_9c94f_00008   PENDING    0.062063                32 |\n",
            "| train_model_9c94f_00009   PENDING    0.000672024              4 |\n",
            "+-----------------------------------------------------------------+\n"
          ]
        }
      ]
    },
    {
      "cell_type": "code",
      "execution_count": null,
      "metadata": {
        "id": "SOVYGESxY9nv"
      },
      "outputs": [],
      "source": [
        "device = torch.device(\"cuda\") if torch.cuda.is_available() else torch.device(\"cpu\")\n",
        "best_trial = analysis.get_best_trial(\"accuracy\", \"max\", \"last\")\n",
        "best_checkpoint = best_trial.checkpoint.value\n",
        "best_model = torch.load(best_checkpoint)\n",
        "best_model.eval()\n",
        "\n",
        "test_loader = DataLoader(test_set, batch_size=32, shuffle=False)\n",
        "top5_correct = 0\n",
        "total = 0\n",
        "\n",
        "with torch.no_grad():\n",
        "    for inputs, labels in test_loader:\n",
        "        inputs, labels = inputs.to(device), labels.to(device)\n",
        "        outputs = best_model(inputs)\n",
        "        _, predicted = outputs.topk(5, 1, True, True)\n",
        "        labels = labels.view(-1, 1).expand_as(predicted)\n",
        "        top5_correct += predicted.eq(labels).sum().item()\n",
        "        total += labels.size(0)\n",
        "\n",
        "top5_accuracy = 100. * top5_correct / total\n",
        "print(f\"Top-5 Test Accuracy: {top5_accuracy:.2f}%\")\n"
      ]
    },
    {
      "cell_type": "code",
      "source": [],
      "metadata": {
        "id": "w_RJvF0OG4cS"
      },
      "execution_count": null,
      "outputs": []
    }
  ]
}