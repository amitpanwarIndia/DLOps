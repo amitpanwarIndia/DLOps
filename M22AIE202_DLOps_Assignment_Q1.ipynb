{
  "nbformat": 4,
  "nbformat_minor": 0,
  "metadata": {
    "colab": {
      "provenance": [],
      "authorship_tag": "ABX9TyNqb4pc2ATJXjjGmxYLMtnC",
      "include_colab_link": true
    },
    "kernelspec": {
      "name": "python3",
      "display_name": "Python 3"
    },
    "language_info": {
      "name": "python"
    }
  },
  "cells": [
    {
      "cell_type": "markdown",
      "metadata": {
        "id": "view-in-github",
        "colab_type": "text"
      },
      "source": [
        "<a href=\"https://colab.research.google.com/github/amitpanwarIndia/DLOps/blob/main/M22AIE202_DLOpsHomeAssignment_1.ipynb\" target=\"_parent\"><img src=\"https://colab.research.google.com/assets/colab-badge.svg\" alt=\"Open In Colab\"/></a>"
      ]
    },
    {
      "cell_type": "code",
      "execution_count": null,
      "metadata": {
        "colab": {
          "base_uri": "https://localhost:8080/"
        },
        "id": "SOVYGESxY9nv",
        "outputId": "b6cfbe9b-010a-4bbf-f3de-3c6a883c5c4a"
      },
      "outputs": [
        {
          "output_type": "stream",
          "name": "stdout",
          "text": [
            "Calculated Test Accuracy: 0.9000\n"
          ]
        }
      ],
      "source": [
        "import torch\n",
        "import torch.nn as nn\n",
        "import torch.optim as optim\n",
        "from sklearn.datasets import load_iris\n",
        "from sklearn.model_selection import train_test_split\n",
        "from sklearn.preprocessing import StandardScaler\n",
        "from torch.utils.data import DataLoader, TensorDataset\n",
        "from torch.utils.tensorboard import SummaryWriter\n",
        "\n",
        "# IRIS dataset is loaded using sklearn.datasets\n",
        "iris = load_iris()\n",
        "X, y = iris.data, iris.target\n",
        "\n",
        "# Splitting data into train and test datasets\n",
        "X_train, X_test, y_train, y_test = train_test_split(X, y, test_size=0.2, random_state=42)\n",
        "\n",
        "# Standardizing features using sklearn.preprocessing technique\n",
        "scaler = StandardScaler()\n",
        "X_train = scaler.fit_transform(X_train)\n",
        "X_test = scaler.transform(X_test)\n",
        "\n",
        "# Now we have to create a custom DataLoader for PyTorch using torch library\n",
        "train_dataset = TensorDataset(torch.tensor(X_train, dtype=torch.float32), torch.tensor(y_train))\n",
        "train_loader = DataLoader(train_dataset, batch_size=32, shuffle=True)\n",
        "\n",
        "# Defining the MLP model as requested in question and taught in class\n",
        "class MLP(nn.Module):\n",
        "    def __init__(self):\n",
        "        super(MLP, self).__init__()\n",
        "        self.fc1 = nn.Linear(4, 5)\n",
        "        self.fc2 = nn.Linear(5, 7)\n",
        "        self.fc3 = nn.Linear(7, 3)\n",
        "\n",
        "    def forward(self, x):\n",
        "        x = torch.relu(self.fc1(x))\n",
        "        hidden_output = torch.relu(self.fc2(x))\n",
        "        x = self.fc3(hidden_output)\n",
        "        return x, hidden_output\n",
        "\n",
        "# Initialize the model and Adam optimizer and Cross Entropy Loss\n",
        "model = MLP()\n",
        "optimizer = optim.Adam(model.parameters(), lr=0.001)\n",
        "criterion = nn.CrossEntropyLoss()\n",
        "\n",
        "# Setting up TensorBoard writer\n",
        "writer = SummaryWriter()\n",
        "\n",
        "# training loop with hundres epochs with loss calculation\n",
        "for epoch in range(100):\n",
        "    total_loss = 0.0\n",
        "    for batch_X, batch_y in train_loader:\n",
        "        optimizer.zero_grad()\n",
        "        output,_ = model(batch_X)\n",
        "        loss = criterion(output, batch_y)\n",
        "        loss.backward()\n",
        "        optimizer.step()\n",
        "        total_loss += loss.item()\n",
        "    # writting training loss\n",
        "    writer.add_scalar('Loss/train', total_loss, epoch)\n",
        "\n",
        "# evaluating the model on test data and hidden layer output is kept for generate t-SNE representation\n",
        "with torch.no_grad():\n",
        "    test_output, hidden_output  = model(torch.tensor(X_test, dtype=torch.float32))\n",
        "    predicted_classes = torch.argmax(test_output, dim=1)\n",
        "    accuracy = (predicted_classes == torch.tensor(y_test)).float().mean()\n",
        "\n",
        "    # writting test accuracy\n",
        "    writer.add_scalar('Accuracy/test', accuracy.item())\n",
        "\n",
        "print(f\"Calculated Test Accuracy: {accuracy.item():.4f}\")\n"
      ]
    },
    {
      "cell_type": "code",
      "source": [
        "from torch.utils.tensorboard import SummaryWriter\n",
        "from sklearn.model_selection import KFold\n",
        "from sklearn.metrics import accuracy_score, precision_score, recall_score\n",
        "\n",
        "kf = KFold(n_splits=10, shuffle=True, random_state=42)\n",
        "\n",
        "accuracy_scores = []\n",
        "precision_scores = []\n",
        "recall_scores = []\n",
        "\n",
        "for train_idx, val_idx in kf.split(X_train):\n",
        "    X_fold_train, y_fold_train = X_train[train_idx], y_train[train_idx]\n",
        "    X_fold_val, y_fold_val = X_train[val_idx], y_train[val_idx]\n",
        "\n",
        "    # Train your model on X_fold_train, y_fold_train\n",
        "    # Evaluate on X_fold_val, y_fold_val\n",
        "    with torch.no_grad():\n",
        "        test_output, _ = model(torch.tensor(X_fold_val, dtype=torch.float32))\n",
        "        predicted_classes = torch.argmax(test_output, dim=1)\n",
        "        accuracy=accuracy_score(y_fold_val, predicted_classes)\n",
        "        accuracy_scores.append(accuracy)\n",
        "        print(f\"Accuracy: {accuracy:.4f}\")\n",
        "        writer.add_scalar('Accuracy/fold', accuracy)\n",
        "\n",
        "        precision=precision_score(y_fold_val, predicted_classes, average='weighted')\n",
        "        precision_scores.append(precision)\n",
        "        print(f\"Precision: {precision:.4f}\")\n",
        "        writer.add_scalar('Precision/fold', precision)\n",
        "\n",
        "        recall=recall_score(y_fold_val, predicted_classes, average='weighted')\n",
        "        recall_scores.append(recall)\n",
        "        print(f\"Recall: {recall:.4f}\")\n",
        "        writer.add_scalar('Recall/fold', recall)\n",
        "\n",
        "#also calculating and printing Average accuracy, precision, recall\n",
        "# Calculate average metrics across folds\n",
        "avg_accuracy = sum(accuracy_scores) / len(accuracy_scores)\n",
        "avg_precision = sum(precision_scores) / len(precision_scores)\n",
        "avg_recall = sum(recall_scores) / len(recall_scores)\n",
        "\n",
        "print(f\"Average Accuracy: {avg_accuracy:.4f}\")\n",
        "print(f\"Average Precision: {avg_precision:.4f}\")\n",
        "print(f\"Average Recall: {avg_recall:.4f}\")\n",
        "\n",
        "writer.add_scalar('Average/Accuracy', avg_accuracy)\n",
        "writer.add_scalar('Average/Precision', avg_precision)\n",
        "writer.add_scalar('Average/Recall', avg_recall)"
      ],
      "metadata": {
        "colab": {
          "base_uri": "https://localhost:8080/"
        },
        "id": "bhJ4GRJBe9lS",
        "outputId": "6bd4b22e-8739-4758-f9f5-318e9e807e89"
      },
      "execution_count": null,
      "outputs": [
        {
          "output_type": "stream",
          "name": "stdout",
          "text": [
            "Accuracy: 0.8333\n",
            "Precision: 0.8333\n",
            "Recall: 0.8333\n",
            "Accuracy: 0.9167\n",
            "Precision: 0.9583\n",
            "Recall: 0.9167\n",
            "Accuracy: 0.9167\n",
            "Precision: 0.9286\n",
            "Recall: 0.9167\n",
            "Accuracy: 0.9167\n",
            "Precision: 0.9333\n",
            "Recall: 0.9167\n",
            "Accuracy: 0.8333\n",
            "Precision: 0.8333\n",
            "Recall: 0.8333\n",
            "Accuracy: 1.0000\n",
            "Precision: 1.0000\n",
            "Recall: 1.0000\n",
            "Accuracy: 0.5000\n",
            "Precision: 0.3333\n",
            "Recall: 0.5000\n",
            "Accuracy: 0.7500\n",
            "Precision: 0.7500\n",
            "Recall: 0.7500\n",
            "Accuracy: 0.9167\n",
            "Precision: 0.9333\n",
            "Recall: 0.9167\n",
            "Accuracy: 0.7500\n",
            "Precision: 0.8750\n",
            "Recall: 0.7500\n",
            "Average Accuracy: 0.8333\n",
            "Average Precision: 0.8379\n",
            "Average Recall: 0.8333\n"
          ]
        }
      ]
    },
    {
      "cell_type": "code",
      "source": [
        "from sklearn.manifold import TSNE\n",
        "import matplotlib.pyplot as plt\n",
        "\n",
        "#using hidden layer output generated on test dataset\n",
        "hidden_layer_output = hidden_output.detach().numpy()\n",
        "tsne = TSNE(n_components=2, perplexity=10, random_state=42)\n",
        "X_tsne = tsne.fit_transform(hidden_layer_output)\n",
        "\n",
        "# Plotting t-SNE results\n",
        "plt.scatter(X_tsne[:, 0], X_tsne[:, 1], c=y_test, cmap='viridis')\n",
        "plt.title(\"t-SNE Visualization of Hidden Layer Representations\")\n",
        "plt.colorbar(label='Target Label')\n",
        "plt.show()\n",
        "\n",
        "# Close the TensorBoard writer\n",
        "writer.close()\n"
      ],
      "metadata": {
        "colab": {
          "base_uri": "https://localhost:8080/",
          "height": 452
        },
        "id": "vwdgqPorfGtu",
        "outputId": "687cac94-3b69-4f21-f2f2-f68e6222d7a4"
      },
      "execution_count": null,
      "outputs": [
        {
          "output_type": "display_data",
          "data": {
            "text/plain": [
              "<Figure size 640x480 with 2 Axes>"
            ],
            "image/png": "[encoded data removed]"
          },
          "metadata": {}
        }
      ]
    },
    {
      "cell_type": "code",
      "source": [
        "!tensorboard --logdir=runs"
      ],
      "metadata": {
        "colab": {
          "base_uri": "https://localhost:8080/"
        },
        "id": "9BSuB4nSfCHf",
        "outputId": "2e1622dd-c594-4bbd-ced5-89da613be348"
      },
      "execution_count": null,
      "outputs": [
        {
          "output_type": "stream",
          "name": "stdout",
          "text": [
            "2024-03-17 07:36:41.490654: E external/local_xla/xla/stream_executor/cuda/cuda_dnn.cc:9261] Unable to register cuDNN factory: Attempting to register factory for plugin cuDNN when one has already been registered\n",
            "2024-03-17 07:36:41.490724: E external/local_xla/xla/stream_executor/cuda/cuda_fft.cc:607] Unable to register cuFFT factory: Attempting to register factory for plugin cuFFT when one has already been registered\n",
            "2024-03-17 07:36:41.492118: E external/local_xla/xla/stream_executor/cuda/cuda_blas.cc:1515] Unable to register cuBLAS factory: Attempting to register factory for plugin cuBLAS when one has already been registered\n",
            "2024-03-17 07:36:42.952403: W tensorflow/compiler/tf2tensorrt/utils/py_utils.cc:38] TF-TRT Warning: Could not find TensorRT\n",
            "\n",
            "NOTE: Using experimental fast data loading logic. To disable, pass\n",
            "    \"--load_fast=false\" and report issues on GitHub. More details:\n",
            "    https://github.com/tensorflow/tensorboard/issues/4784\n",
            "\n",
            "Serving TensorBoard on localhost; to expose to the network, use a proxy or pass --bind_all\n",
            "TensorBoard 2.15.2 at http://localhost:6006/ (Press CTRL+C to quit)\n"
          ]
        }
      ]
    }
  ]
}
